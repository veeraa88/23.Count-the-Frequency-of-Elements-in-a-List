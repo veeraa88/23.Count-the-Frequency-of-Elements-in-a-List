{
 "cells": [
  {
   "cell_type": "code",
   "execution_count": null,
   "id": "907db946-7680-415c-b8e4-79bb29b4dfda",
   "metadata": {},
   "outputs": [],
   "source": [
    "## Count the Frequency of Elements in a List"
   ]
  },
  {
   "cell_type": "code",
   "execution_count": 1,
   "id": "1173648d-7114-42f6-8e7f-b1f53bacd275",
   "metadata": {},
   "outputs": [
    {
     "name": "stdout",
     "output_type": "stream",
     "text": [
      "{1: 2, 2: 2, 3: 2, 4: 2, 5: 2, 7: 1}\n"
     ]
    }
   ],
   "source": [
    "l=[1,2,3,4,5,5,4,3,2,1,7]\n",
    "d={}\n",
    "for i in l:\n",
    "    if i not in d:\n",
    "        d[i]=1\n",
    "    else:\n",
    "        d[i]+=1\n",
    "print(d)"
   ]
  },
  {
   "cell_type": "code",
   "execution_count": null,
   "id": "38b2e058-43ad-42e2-bc30-a354f93c1c8f",
   "metadata": {},
   "outputs": [],
   "source": []
  },
  {
   "cell_type": "code",
   "execution_count": null,
   "id": "57df56a2-2aa9-4e14-acc2-13ff4e0a5e01",
   "metadata": {},
   "outputs": [],
   "source": []
  }
 ],
 "metadata": {
  "kernelspec": {
   "display_name": "Python [conda env:base] *",
   "language": "python",
   "name": "conda-base-py"
  },
  "language_info": {
   "codemirror_mode": {
    "name": "ipython",
    "version": 3
   },
   "file_extension": ".py",
   "mimetype": "text/x-python",
   "name": "python",
   "nbconvert_exporter": "python",
   "pygments_lexer": "ipython3",
   "version": "3.12.7"
  }
 },
 "nbformat": 4,
 "nbformat_minor": 5
}
